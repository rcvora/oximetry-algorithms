{
 "cells": [
  {
   "cell_type": "code",
   "execution_count": 17,
   "metadata": {},
   "outputs": [],
   "source": [
    "import numpy as np\n",
    "import scipy.io\n",
    "import scipy.signal\n",
    "import matplotlib.pyplot as plt\n",
    "from datascience import *\n",
    "import math as m"
   ]
  },
  {
   "cell_type": "markdown",
   "metadata": {},
   "source": [
    "## Read in File"
   ]
  },
  {
   "cell_type": "code",
   "execution_count": 11,
   "metadata": {},
   "outputs": [
    {
     "data": {
      "text/plain": [
       "array([[0.000000e+00, 2.815625e+01, 4.000000e+00, 8.375000e+00,\n",
       "        4.428125e+01],\n",
       "       [1.000000e-04, 4.121250e+02, 4.133438e+02, 4.365000e+02,\n",
       "        4.529063e+02],\n",
       "       [2.000000e-04, 2.681875e+02, 2.597813e+02, 2.584688e+02,\n",
       "        2.672188e+02],\n",
       "       ...,\n",
       "       [1.804997e+02, 1.300000e+02, 1.150313e+02, 1.215625e+02,\n",
       "        1.248125e+02],\n",
       "       [1.804998e+02, 1.054375e+02, 9.090625e+01, 1.009688e+02,\n",
       "        1.101563e+02],\n",
       "       [1.804999e+02, 4.108438e+02, 4.054688e+02, 4.342500e+02,\n",
       "        4.542188e+02]])"
      ]
     },
     "execution_count": 11,
     "metadata": {},
     "output_type": "execute_result"
    }
   ],
   "source": [
    "file = np.loadtxt('cycling_4.txt', delimiter = '\\t', skiprows = 6)\n",
    "file"
   ]
  },
  {
   "cell_type": "markdown",
   "metadata": {},
   "source": [
    "## Specify Parameters"
   ]
  },
  {
   "cell_type": "code",
   "execution_count": 7,
   "metadata": {},
   "outputs": [],
   "source": [
    "FS_raw = 10000 # (Hz) sampling frequency of raw data\n",
    "TS = 1.2e-3 # (s/sample) interval between two neighboring selected points\n",
    "channel = 2 # choose a channel to calculate\n",
    "\n",
    "RED_offset = 0.7e-3 # first point of RED signal\n",
    "NIR_offset = 0.1e-3 # first point of NIR signal\n",
    "\n",
    "TS_raw = 1/FS_raw # (s/sample)\n",
    "\n"
   ]
  },
  {
   "cell_type": "markdown",
   "metadata": {},
   "source": [
    "## Do some file conversions"
   ]
  },
  {
   "cell_type": "code",
   "execution_count": 100,
   "metadata": {
    "tags": []
   },
   "outputs": [],
   "source": [
    "\n",
    "\n",
    "LEN = len(file) # length of data\n",
    "\n",
    "\n",
    "FS = 1/TS # (sample/s) new sampling frequency\n",
    "\n",
    "TIME = np.arange(0,LEN*TS,TS)\n",
    "\n",
    "RED_dim = np.arange(m.ceil(RED_offset*FS_raw), LEN, m.ceil(TS*FS_raw))\n",
    "NIR_dim = np.arange(m.ceil(NIR_offset*FS_raw), LEN, m.ceil(TS*FS_raw))\n",
    "RED_full = file[RED_dim]\n",
    "NIR_full = file[NIR_dim]\n"
   ]
  },
  {
   "cell_type": "code",
   "execution_count": 101,
   "metadata": {},
   "outputs": [],
   "source": [
    "RED = make_array()\n",
    "\n",
    "for i in np.arange(len(RED_full)):\n",
    "    RED = np.append(RED, RED_full[i][np.arange(1,5)])\n",
    "\n",
    "NIR = make_array()\n",
    "\n",
    "for i in np.arange(len(NIR_full)):\n",
    "    NIR = np.append(NIR, NIR_full[i][np.arange(1,5)])"
   ]
  },
  {
   "cell_type": "code",
   "execution_count": 102,
   "metadata": {},
   "outputs": [
    {
     "data": {
      "text/plain": [
       "{'TIME': array([0.0000000e+00, 1.2000000e-03, 2.4000000e-03, ..., 2.1659976e+03,\n",
       "        2.1659988e+03, 2.1660000e+03]),\n",
       " 'NIR': array([412.125 , 413.3438, 436.5   , ..., 405.4063, 434.25  , 454.25  ]),\n",
       " 'RED': array([412.2188, 413.4063, 436.4375, ..., 405.4688, 434.25  , 454.2188])}"
      ]
     },
     "execution_count": 102,
     "metadata": {},
     "output_type": "execute_result"
    }
   ],
   "source": [
    "dictionary = {'TIME': TIME, 'NIR': NIR, 'RED': RED}\n",
    "dictionary"
   ]
  },
  {
   "cell_type": "markdown",
   "metadata": {},
   "source": [
    "## Save as .mat file"
   ]
  },
  {
   "cell_type": "code",
   "execution_count": null,
   "metadata": {},
   "outputs": [],
   "source": [
    "scipy.io.savemat('cycling_4_python.mat', dictionary)"
   ]
  },
  {
   "cell_type": "code",
   "execution_count": null,
   "metadata": {},
   "outputs": [],
   "source": []
  }
 ],
 "metadata": {
  "kernelspec": {
   "display_name": "Python 3",
   "language": "python",
   "name": "python3"
  },
  "language_info": {
   "codemirror_mode": {
    "name": "ipython",
    "version": 3
   },
   "file_extension": ".py",
   "mimetype": "text/x-python",
   "name": "python",
   "nbconvert_exporter": "python",
   "pygments_lexer": "ipython3",
   "version": "3.8.8"
  }
 },
 "nbformat": 4,
 "nbformat_minor": 4
}
